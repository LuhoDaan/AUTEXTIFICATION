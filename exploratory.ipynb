{
 "cells": [
  {
   "attachments": {},
   "cell_type": "markdown",
   "metadata": {},
   "source": [
    "## Create a List of Dictionaries from TSV"
   ]
  },
  {
   "cell_type": "code",
   "execution_count": null,
   "metadata": {},
   "outputs": [],
   "source": [
    "# Simple Way to Read TSV Files in Python using pandas\n",
    "# importing pandas library\n",
    "import pandas as pd\n",
    "\n",
    "# Passing the TSV file to\n",
    "# read_csv() function\n",
    "# with tab separator\n",
    "# This function will\n",
    "# read data from file hbh\n",
    "PATH = 'AUTEXTICATION/subtask_1/en/train.tsv'\n",
    "interviews_df = pd.read_csv(PATH, sep='\\t')\n",
    "\n",
    "# printing data\n",
    "print(interviews_df)\n",
    "\n"
   ]
  },
  {
   "cell_type": "code",
   "execution_count": null,
   "metadata": {},
   "outputs": [],
   "source": [
    "# Simple Way to Read TSV Files in Python using split\n",
    "\n",
    "listdict = []\n",
    "\n",
    "# open .tsv file\n",
    "with open(PATH) as f:\n",
    "\n",
    "    # Read data line by line\n",
    "    for line in f:\n",
    "        \n",
    "        # split data by tab\n",
    "        # store it in list\n",
    "        l=line.split('\\t')\n",
    "        #i want to make a list of dictionaries dropping the id column an keeping only text and label\n",
    "        l[2]=l[2].replace('\\n','')\n",
    "        listdict.append({'text':l[1],'label':l[2]})\n",
    "        \n",
    "# print data line by line\n",
    "listdict = listdict[1:]\n",
    "listdict\n",
    "\n"
   ]
  },
  {
   "attachments": {},
   "cell_type": "markdown",
   "metadata": {},
   "source": [
    "## Start exploring the data"
   ]
  },
  {
   "cell_type": "code",
   "execution_count": 41,
   "metadata": {},
   "outputs": [
    {
     "data": {
      "text/plain": [
       "Counter({'generated': 16799, 'human': 17046})"
      ]
     },
     "execution_count": 41,
     "metadata": {},
     "output_type": "execute_result"
    }
   ],
   "source": [
    "#import counter to count occurences of certain words inside the text\n",
    "from collections import Counter\n",
    "#i want to count the occurences of the labels in my list of dictionaries\n",
    "labels = [item['label'] for item in listdict]\n",
    "Counter(labels)"
   ]
  },
  {
   "attachments": {},
   "cell_type": "markdown",
   "metadata": {},
   "source": [
    "**the dataset is well class balanced as we can see**"
   ]
  },
  {
   "cell_type": "code",
   "execution_count": 42,
   "metadata": {},
   "outputs": [
    {
     "data": {
      "text/plain": [
       "[('the', 99310),\n",
       " ('to', 56135),\n",
       " ('of', 53183),\n",
       " ('and', 36944),\n",
       " ('in', 33436),\n",
       " ('a', 33097),\n",
       " ('you', 22116),\n",
       " ('is', 19878),\n",
       " ('for', 18017),\n",
       " ('be', 17996),\n",
       " ('your', 17588),\n",
       " ('on', 16665),\n",
       " ('shall', 15894),\n",
       " ('The', 14688),\n",
       " ('that', 14378),\n",
       " ('Article', 13529),\n",
       " ('or', 13386),\n",
       " ('This', 12696),\n",
       " ('with', 12236),\n",
       " ('Regulation', 10962)]"
      ]
     },
     "execution_count": 42,
     "metadata": {},
     "output_type": "execute_result"
    }
   ],
   "source": [
    "import nltk\n",
    "\n",
    "#i want to separate the text in sentences and then in words\n",
    "sentences = [item['text'] for item in listdict]\n",
    "words = [w for sentence in sentences for w in sentence.split()]\n",
    "counts = nltk.Counter(words)\n",
    "counts.most_common(20)"
   ]
  },
  {
   "cell_type": "code",
   "execution_count": 43,
   "metadata": {},
   "outputs": [
    {
     "data": {
      "image/png": "[encoded data removed]",
      "text/plain": [
       "<Figure size 640x480 with 1 Axes>"
      ]
     },
     "metadata": {},
     "output_type": "display_data"
    }
   ],
   "source": [
    "#separate sentences by label\n",
    "humans = [item['text'] for item in listdict if item['label']=='human']\n",
    "generateds = [item['text'] for item in listdict if item['label']=='generated']\n",
    "\n",
    "#plot the lenght of sentences in each label\n",
    "import matplotlib.pyplot as plt\n",
    "plt.hist([len(human) for human in humans], 50, alpha=0.5, label='human')\n",
    "plt.hist([len(generated) for generated in generateds], 50, alpha=0.5, label='generated')\n",
    "plt.legend(loc='upper right')\n",
    "plt.show()\n",
    "\n",
    "\n"
   ]
  },
  {
   "cell_type": "code",
   "execution_count": null,
   "metadata": {},
   "outputs": [],
   "source": []
  },
  {
   "cell_type": "code",
   "execution_count": 44,
   "metadata": {},
   "outputs": [
    {
     "name": "stdout",
     "output_type": "stream",
     "text": [
      "The average human sentence len is 297.1298251789276, while generated is 313.4907434966367\n",
      "The max human sentence len is 633, while generated is 669\n",
      "The min human sentence len is 3, while generated is 8\n"
     ]
    }
   ],
   "source": [
    "average_len_human = sum([len(human) for human in humans]) / len(humans)\n",
    "average_len_generated = sum([len(generated) for generated in generateds]) / len(generateds)\n",
    "print(f'The average human sentence len is {average_len_human}, while generated is { average_len_generated}')\n",
    "max_len_human = max([len(human) for human in humans])\n",
    "max_len_generated = max([len(generated) for generated in generateds])\n",
    "print(f'The max human sentence len is {max_len_human}, while generated is { max_len_generated}')\n",
    "min_len_human = min([len(human) for human in humans])\n",
    "min_len_generated = min([len(generated) for generated in generateds])\n",
    "print(f'The min human sentence len is {min_len_human}, while generated is { min_len_generated}')\n"
   ]
  },
  {
   "cell_type": "code",
   "execution_count": 45,
   "metadata": {},
   "outputs": [
    {
     "name": "stdout",
     "output_type": "stream",
     "text": [
      "The average human vocab len is 40.57010442332512, while generated is 42.30936365259837\n"
     ]
    }
   ],
   "source": [
    "human_vocab = [set(w for w in human.split()) for human in humans]\n",
    "generated_vocab = [set(w for w in generated.split()) for generated in generateds]\n",
    "\n",
    "avg_human_vocab = sum([len(human) for human in human_vocab]) / len(human_vocab)\n",
    "avg_generated_vocab = sum([len(generated) for generated in generated_vocab]) / len(generated_vocab)\n",
    "\n",
    "print(f'The average human vocab len is {avg_human_vocab}, while generated is { avg_generated_vocab}')\n",
    "\n"
   ]
  },
  {
   "attachments": {},
   "cell_type": "markdown",
   "metadata": {},
   "source": [
    "qua sotto ho provato a fare la list comprehension in one liner"
   ]
  },
  {
   "cell_type": "code",
   "execution_count": null,
   "metadata": {},
   "outputs": [],
   "source": [
    "oneliner = [len(set(w for w in human.split()))for human in humans]\n",
    "\n",
    "print(oneliner[:10])\n",
    "avg_human = sum(oneliner) / len(oneliner)\n",
    "print(f'The average human vocab len is {avg_human}')"
   ]
  },
  {
   "attachments": {},
   "cell_type": "markdown",
   "metadata": {},
   "source": [
    "**SUGGERIMENTO DEL PROF!! HO PROVATO A VEDRE GLI SPELLING ERRORS MA SEMBRA CHE IL MODELLO GNERATO NE ABBIA ALTRETTANTI**"
   ]
  },
  {
   "cell_type": "code",
   "execution_count": 47,
   "metadata": {},
   "outputs": [],
   "source": [
    "import string   \n",
    "import re\n",
    "string.punctuation\n",
    "#remove punctuation from human and generated sentences\n",
    "regex = '['+string.punctuation+']'\n",
    "humans = [re.sub(regex, '', human) for human in humans]\n",
    "generateds = [re.sub(regex, '', generated) for generated in generateds]\n",
    "#remove numbers from human and generated sentences\n",
    "regex = '[0-9]'\n",
    "humans = [re.sub(regex, '', human) for human in humans]\n",
    "generateds = [re.sub(regex, '', generated) for generated in generateds]\n",
    "#remove quotes and parentheses and brackets from human and generated sentences\n",
    "regex = '[‘’“”…«»\\(\\)\\[\\]]'\n",
    "humans = [re.sub(regex, '', human) for human in humans]\n",
    "generateds = [re.sub(regex, '', generated) for generated in generateds]\n",
    "#remove new line from human and generated sentences\n",
    "regex = '[\\n]'\n",
    "humans = [re.sub(regex, '', human) for human in humans]\n",
    "generateds = [re.sub(regex, '', generated) for generated in generateds]\n",
    "\n",
    "\n"
   ]
  },
  {
   "cell_type": "code",
   "execution_count": 48,
   "metadata": {},
   "outputs": [],
   "source": [
    "## i want to see if and how many spelling grammar and punctuation errors are in both human and generated sentences\n",
    "##import sys\n",
    "##!conda install --yes --prefix {sys.prefix} pyspellchecker"
   ]
  },
  {
   "cell_type": "code",
   "execution_count": 84,
   "metadata": {},
   "outputs": [],
   "source": [
    "from spellchecker import SpellChecker\n",
    "spell = SpellChecker()\n",
    "# find those words that may be misspelled  by human\n",
    "misspelled_human = [spell.unknown(human.split()) for human in humans] \n",
    "misspelled_generated = [spell.unknown(generated.split()) for generated in generateds]\n",
    "mispelled_human_words = [word for words in misspelled_human for word in words]\n",
    "mispelled_generated_words = [word for words in misspelled_generated for word in words]\n",
    "\n",
    "#remove empty sets from list misspelled human and list mispelled generated\n",
    "mis_human = [word for word in misspelled_human if word != set()]\n",
    "mis_generated = [word for word in misspelled_generated if word != set()]\n",
    "\n",
    "mispelled_human_words = [word for word in mispelled_human_words if word != set()]\n",
    "mispelled_generated_words = [word for word in mispelled_generated_words if word != set()]\n",
    "\n",
    "mispelled_set_human = set(mispelled_human_words)\n",
    "mispelled_set_generated = set(mispelled_generated_words)"
   ]
  },
  {
   "attachments": {},
   "cell_type": "markdown",
   "metadata": {},
   "source": [
    "Qua ora sto printando il numero di frasi che hanno errori di spelling sia per human che per generated"
   ]
  },
  {
   "cell_type": "code",
   "execution_count": 89,
   "metadata": {},
   "outputs": [
    {
     "name": "stdout",
     "output_type": "stream",
     "text": [
      "11845\n",
      "10674\n",
      "the number of misspelled words in human sentences is 12294 while the number of misspelled words in generated sentences is 9017\n"
     ]
    }
   ],
   "source": [
    "print(len(mis_human))\n",
    "print(len(mis_generated))\n",
    "print(f'the number of misspelled words in human sentences is {len(mispelled_set_human)} while the number of misspelled words in generated sentences is {len(mispelled_set_generated)}')"
   ]
  },
  {
   "cell_type": "code",
   "execution_count": 81,
   "metadata": {},
   "outputs": [
    {
     "name": "stdout",
     "output_type": "stream",
     "text": [
      "['talentall', 'hundredreasons', 'heatresistant', 'cl', 'augmentin', 'fourday', 'uti', 'trimethoprim', 'clavulanate', 'sulfamethoxazole', 'utis', 'carlislecullen', 'seantheo', 'suvks', 'nre', 'kegg', 'abovementioned', 'transhipment', 'd', 'summarised', 'stoneybaby', 'nerfs', 'goodluck', 'pinchweld', 'l', 'eaggf', 'warmernicermore', 'cds', 'anzrocks', 'x', 'falkand', 'softbodied', 'doesnt', 'pearshaped', 'ph', 'lmfao', 'ittttt', 'heyyy', 'bhahahahahahha', 'rachealstfu', '½', 'transhipment', 'abovementioned', 'vii', 'sn', 'volleying', 'carbohydratebased', 'bday', 'todays', 'l']\n",
      "['mutatis', 'croatia', 'mutandis', 'youre', 'ff', 'dvd', 'lartist', 'bodyweight', 'antidumping', 'heatinsulating', 'subcategories', 'andor', 'f', 'pisseed', 'parabenfree', 'blowdry', 'sulfatefree', 'eec', 'derogation', 'gsp', 'derogation', 'interpretative', 'n', 'caselaw', 'flareups', 'insulinreleasing', 'gt', 'doesnt', 'jj', 'missoulas', '•', 'kiwichiwi', 'dutyfee', 'b', 'eec', 'dutyfree', 'secretarygeneral', 'dancingbaby', 'euratom', 'b', 'foodproducing', 'eeceeecetransrev', 'b', 'c', '€', 'durum', 'quadriceps', 'gluteals', 'highfiber', 'pm']\n",
      "['You may be angry at your spouse or a friend for not listening to what you said and doing something that is bad for them An anger disorder has symptoms similar to those of depression or anxiety disorders They include feelings of sadness or guilt when making decisions difficulty concentrating sleeping poorly feeling exhausted or having trouble maintaining relationships with others Anger problems can lead to physical health issues if theyre left untreated Anxiety disorders are often associated with heart disease high blood', 'Young cats are better to use a catnipbased toy as they are more likely to enjoy the play and be more engaged in the game We recommend using a catnipbased toy for multiple reasons It increases the cats interest in the toy which increases the likelihood of a successful strike Its also a more stimulating toy which can help to keep a cats attention on the toy and away', 'The purpose of this regulation is to ensure the safety of the people and property in relation to the use of compressed gases as well as the protection of the environment from pollution by these substances Regulation of the Ministry of Transport Communications Posts and Telecommunications on the Regulation of Safety Equipment for Compressed Gases at Points of Sale Regulations of the Minister of Transport Communications Posts and Telecommunications on the Regulation of Safety Equipment for Compressed Gases at Points of Sale', 'CathrineSchack hahaha noo i was waiting for this to come out to see what you would do D Kerilynn', 'kamitchell I suppose but I m not sure how much it would help It could be a way to organize your thoughts and ideas', 'The licence allocated for a vehicle type approved in accordance with Annex  may be used only when it meets all the requirements set out below  In each case where a new vehicle is submitted as an approval under this Regulation after being withdrawn from the list of vehicles which are subject to administrative control prior to  January  or before that date if the application has been received but not yet granted an approval on  November  the manufacturer must supply information concerning its compliance with paragraph  above within  months', 'I believe that the European Parliament has an important role to play in ensuring that the principles of subsidiarity and proportionality are respected not only by Member States but also by their institutions This is a basic principle for me I have already said that I consider it extremely important that there should be a clear distinction between political and judicial bodies We must never allow those who seek to interfere with our institutions or to interfere in other countries internal affairs to do so as we see on occasion in certain', 'swfacts LOL Thats too funny swfacts We know We cant help but laugh', 'This attitude often makes them fail to appreciate the diversity of perspectives and values that exist in a society In addition to this aspect of stereotypes there is also another factor which can create prejudice towards others The lack of personal history within the community In other words many young adults do not know about how their ancestors came from where they live now Thus it becomes difficult for these individuals to understand what cultures look like today but at the same time they may still feel uncomfortable if someone does', 'I have some tourniquets on my office desk that I made out of duct tape which are pretty handy If you dont have a medical tourniquet but you do have a rubber band a rock or something similar then you can improvise The trick is to make sure that your material wont puncture the skin and cause you a lot of pain You can also try to do this with a bandaid but that usually just leaves a', 'The products are distributed in bottles and canisters of different sizes The Vinho Verde wine is mainly produced from the varieties Alvarinho Loureiro Arinto or Trajadura Wines made under the name Vinho Verde may not contain more than   of any other grape variety or blends with them  CONCLUSIONS The Lisbon region is an area of great importance in Portugal due to its geographical characteristics high altitude low temperatures and its historical development in the production', 'The following provisions shall remain in force  In addition Italy shall continue to contribute to a fund established under the auspices of the United Nations for humanitarian assistance and rehabilitation in the Republic of Croatia pursuant to Articles  and  of the Charter  Paragraph  of this article shall apply mutatis mutandis to any other country which may become party to the present Agreement after its entry into force Article  No application by either Party for or withdrawal from membership of the Organization shall be accepted', 'In addition its important to keep your wound clean as grit and dirt can also make an infection worse Do not wash the wound with soap or use a washcloth Take your time Dont rush to put on a BandAid In some cases it can cause more damage to the wound Put on a fresh one every day This can help reduce the risk of skin infections and make it easier to keep the', 'The limes are usually sold in bulk so you can get your hands on some pretty big limes if you want to make a lot of drinks A key ingredient for creating classic cocktails like mojitos is ice cream If youre looking for an easy way to make homemade ice cream look no further than this recipe', 'You should check the pads for wear and tear as well as check the rotors for any signs of warping or uneven wear If the rotors are warped they should be replaced If the pads have worn down significantly then they should be replaced', 'A lil late for ff Just noticed the great American flag flying over the White House on the top of the White', 'It is a DVD that contains all the necessary files and drivers for the operating system to be installed on your computer The Windows  Setup DVD contains the Windows  Setup program and a collection of device drivers It also contains a copy of the Windows  installation files which are used to install the operating system The DVD also contains a copy of the Windows  recovery disc which can be used to repair Windows if it is not functioning correctly', 'lartist maybe for you Here are a few pics You may remember my old desk I found a very', 'You will find that when you make a choice to get in shape it is hard for many people not do the same thing over and over again The goal of this article was to help give some insight into how you should choose your bodyweight workout routine and what results are likely to happen with each one depending on where you stand today', ' The installation may be installed in such a way as to be subject to any inspection which is required under this regulation for the purposes of assessing compliance with this Regulation', 'The Parties agree to cooperate in their mutual efforts to harmonize their national antidumping laws and regulations Article  This Agreement shall be subject to termination by mutual consent of the Parties Article  This Agreement shall enter into force upon the exchange of instruments of ratification by the Parties Article  This Agreement shall be subject to termination by mutual consent of the Parties Article  This Agreement shall be subject to termination by mutual consent of the Parties Article  This Agreement shall be', 'The provisions contained in this Regulation apply to all varieties of sunflower which are grown or intended to be grown in France from seed harvested after  January  To conform to these requirements seeds must bear the marking shown in Annex  see Figure  The markings shall be clearly legible and indelible The markings may be made by any means suitable to the purpose without altering their character The same colour code as used on the label is applied to the marking This mark', ' January  Regulation No  Liquid milk containing calcium carbonate Revised  series of amendments Uniform provisions concerning the approval of types of milk containers intended to be used as cooling boxes or thermal insulating containers including their construction and materials heatinsulating linings fitted into such containers units of equipment having one or more compartments that may contain liquid milk and milk containers intended to be used as cooling boxes or thermal insulating containers Regulation No', 'The following categories and subcategories are considered A Healthy fit person who does not smoke or drink is an active participant in their community and spends time with family F for females Smoking andor drinking person who is inactive or unhealthy and lives alone or has no support system In addition to the rating users can post pictures that they have taken while on a vacation or other activities that show them having fun as well as photos of themselves being', 'Article  Each Member State shall be responsible for the administration and control of the quotas and shall take all necessary measures to ensure that the quotas are not exceeded Article  Each Member State shall take the necessary measures to ensure that the quotas are applied in an equitable manner and without discrimination on grounds of origin Article  Each Member State shall take the necessary measures to ensure that the quotas are not abused and that fraud distortion of competition and other forms of unfair competition', 'The list of all fishing vessels and their characteristics as well as details on the location of those vessels', 'All I want to do is have a real family I want to have a family a real family I want to', 'so pisseed of right know Im feeling overwhelmed and frustrated right now Im trying to stay positive but it', 'I wish water polo would be played on the grass but it seems to me that in Europe they are not interested I', 'Choose products that are sulfatefree and parabenfree Avoid applying heat on wet hair especially if its in an unruly state It will only make things worse Instead apply heat while the hair is dry or blowdry it for at least  minutes before using a flat iron Brushing and curling your hair with a round brush is much better than using a comb This reduces breakage and allows you to maintain the shape of your hair without having to use heat', 'Whereas the measures provided for in this Decision shall enter into force on  June  and shall remain applicable until  May  In accordance with Article a a derogation from the obligation laid down in Article  of Regulation EEC No  of  May  concerning the admission to and restriction of the movement within the Community of certain products originating in third countries in relation to the import of frozen beef and veal carcasses', 'Article  No derogation from Article  Paragraph  of Regulation EU n o  of the European Parliament and of the Council Generalized System of Preferences GSP will be granted under the GSP This chapter contains a discussion of the application of EU law to the construction industry based on the examples provided by the caselaw of the Court of Justice and its interpretative acts', 'Article  Informative reference to the old Regulation EC No  This Regulation shall be referred to as the old Regulation EC No  Article  Entry into force of this Regulation This Regulation shall enter into force on the twentieth day following that of its publication in the Official Journal of the European Union This Regulation shall be binding in its entirety and directly applicable in all Member States Done', 'Eating a diet rich in fruits vegetables lean proteins and whole grains can help keep skin hydrated and provide essential vitamins and minerals to support the skins natural barrier Additionally avoiding certain foods that may trigger flareups such as dairy and processed foods can help manage symptoms Eating a healthy diet can also help to reduce inflammation throughout the body which can help to improve eczema symptoms', 'Tryin  gt to  gt of insulinreleasing implant are the most important factors to manage the diabetes', 'Watched an interview with Missoulas JJ Cole the former frontman of the band Ween He said he doesnt', 'If you spill a drink on your keyboard unplug it and wipe it down If you spill a drink on your keyboard unplug it and wipe it down If you spill a drink on your keyboard unplug it and wipe it down If you spill a drink on your keyboard unplug it and wipe it down If you spill a drink on your keyboard unplug it and wipe it down If you spill', 'If you dont have the repair kit you can buy a patch kit or the individual components at a hardware store Clean the area around the hole then cut the vinyl patch so its slightly larger than the hole Place the patch over the hole and use the adhesive to attach it securely Allow the adhesive to dry completely before using the mattress again', 'Such licenses may be granted on a temporary basis subject to such conditions as are laid down in Annex II Article  The Commission shall establish procedures which ensure that all applications for licences under this Regulation are dealt with expeditiously Article  In the case of an application for a licence pursuant to Article  or  if the proposed use is not covered by a license already issued for any other purpose but otherwise meets the requirements of Article  the applicant shall submit an', '• If the ribbon is part of a ribbon chain see the procedure shown in the table below • If the ribbon is not part of a ribbon chain see the procedure in the table below Steps to follow • Insert the ribbon • When the ribbon is inserted align the ribbon to the same direction as the previous location on the ribbon • Remove the ribbon • Remove the ribbon from the ribbon bar and align it to', 'Kiwichiwi I am sorry as we do not have the information available to provide you with an answer', 'Consequently under article   b the decision of the Government of Greece applying for exemption from the customs duties and taxes referred to in paragraph  above shall remain in force  The SecretaryGeneral bearing in mind the terms of Commission Decision EEC of  July  and the conclusions reached by the Committee on DutyFee Arrangements at its meeting held on  November  Article No Dutyfree entry granted or refused Reasons', 'dancingbaby no need for people to pay attention to me Im just a little baby girl dancing in my own way My', 'Having regard to the Council Decision EC Euratom of  September  appointing the members of the Committee of the Regions for the period from  September  to  September   Having regard to the Council Decision EC Euratom of  July  appointing the members of the Committee of the Regions for the period from  September  to  June   Having regard to the European Parliament and Council Regulation EC No ', 'The adoption of such measures will be subject to review every five years Member States may apply for exemption from any obligation under this Directive which they consider to be incompatible with their domestic legislation or law as a whole  a A State Party that has not yet acceded to this Convention is invited to do so without delay b In accordance with Article   on an annual basis before  January  all Member States are requested to provide information in respect of i The number', 'Processing of animal products A Meat and meat products The processing of the following animals meat or meat products for human consumption purposes is prohibited', 'References to the relevant parts of this Opinion are found in the relevant parts of the Decision of the European Parliament and of the Council  The measures provided for in this Decision should be without prejudice to Council Regulation EC No  of  February  laying down the principles and guidelines for the control of veterinary medicinal products for use in foodproducing animals and laying down the principles and requirements for the registration of veterinary medicinal products for use in foodproducing animals ', 'This will save you the hassle of borrowing one each time you want to host a movie night Look for projectors that are designed to be used outdoors and are equipped with features like waterproofing and noise reduction You may also want to invest in a portable speaker system so that everyone can hear the movie clearly Additionally consider setting up a seating area with comfortable chairs or blankets and pillows Finally dont forget to set up a table to keep snacks drinks and other supplies within easy', 'The secretariat shall transmit these applications together with a copy of the relevant text of Article  and paragraph  thereof of the Agreement concerning the Adoption of Uniform Conditions of Approval and Reciprocal Recognition of Approvals granted by the Parties to the  Agreement on LightWeight Vehicles and the Rules annexed thereto EECEEECETRANSRev to all Contracting Parties to the Agreement whose names appear on the list contained in Annex I to this', 'This Regulation lays down the arrangements for the marketing of common wheat durum wheat and common rye for the  marketing year Article   The minimum market price for common wheat durum wheat and common rye shall be a for common wheat € per tonne b for durum wheat € per tonne c for common rye € per tonne']\n"
     ]
    }
   ],
   "source": [
    "#print some examples of mispelled words by human and by generated\n",
    "print(mispelled_human_words[50:100])\n",
    "print(mispelled_generated_words[50:100])\n",
    "print(generateds[50:100])\n",
    "\n"
   ]
  },
  {
   "cell_type": "code",
   "execution_count": 82,
   "metadata": {},
   "outputs": [
    {
     "data": {
      "image/png": "[encoded data removed]",
      "text/plain": [
       "<Figure size 640x480 with 1 Axes>"
      ]
     },
     "metadata": {},
     "output_type": "display_data"
    }
   ],
   "source": [
    "#plot number of generated sentences with misspelled words as opposoed to number of human sentences with misspelled words\n"
   ]
  },
  {
   "cell_type": "code",
   "execution_count": 72,
   "metadata": {},
   "outputs": [
    {
     "name": "stdout",
     "output_type": "stream",
     "text": [
      "['you', 'need', 'to', 'stop', 'the', 'engine', 'and', 'wait', 'until', 'it', 'stops', 'This', 'is', 'how', 'I', 'would', 'do', 'it', 'Check', 'if', 'its', 'safe']\n",
      "<class 'set'>\n"
     ]
    }
   ],
   "source": [
    "human = generateds[0]\n",
    "print(human.split())\n",
    "print(type(spell.unknown(human.split())))"
   ]
  },
  {
   "cell_type": "code",
   "execution_count": 52,
   "metadata": {},
   "outputs": [
    {
     "name": "stdout",
     "output_type": "stream",
     "text": [
      "happening\n",
      "{'henning', 'penning', 'happening'}\n"
     ]
    }
   ],
   "source": [
    "spell = SpellChecker()\n",
    "\n",
    "# find those words that may be misspelled\n",
    "misspelled = spell.unknown(['something', 'is', 'hapenning', 'here'])\n",
    "\n",
    "for word in misspelled:\n",
    "    # Get the one `most likely` answer\n",
    "    print(spell.correction(word))\n",
    "\n",
    "    # Get a list of `likely` options\n",
    "    print(spell.candidates(word))"
   ]
  },
  {
   "attachments": {},
   "cell_type": "markdown",
   "metadata": {},
   "source": [
    "## Considerations\n",
    "After inspecting the lenght of the average human sentence vs the generated sentence lenght I found out that humans tend to produce shorter sentences...still don't know if this is relevant.\n",
    "\n",
    "Also generated seems to use a richer vocabulary, but still this is probably a string assumption"
   ]
  },
  {
   "attachments": {},
   "cell_type": "markdown",
   "metadata": {},
   "source": [
    "## Simple Model Building"
   ]
  },
  {
   "cell_type": "code",
   "execution_count": 53,
   "metadata": {},
   "outputs": [
    {
     "name": "stdout",
     "output_type": "stream",
     "text": [
      "33845 17046 16799\n"
     ]
    }
   ],
   "source": [
    "text = humans + generateds\n",
    "sentences_y = ['human'] * len(humans) + ['generated'] * len(generateds)\n",
    "#print(sentences_y)\n",
    "print(len(sentences_y), len(humans), len(generateds))\n"
   ]
  },
  {
   "cell_type": "code",
   "execution_count": 54,
   "metadata": {},
   "outputs": [],
   "source": [
    "from sklearn.model_selection import train_test_split\n",
    "trainx, testx, trainy, testy = train_test_split(text, sentences_y, test_size=0.2, random_state=42)"
   ]
  },
  {
   "cell_type": "code",
   "execution_count": 55,
   "metadata": {},
   "outputs": [
    {
     "name": "stdout",
     "output_type": "stream",
     "text": [
      "46090\n",
      "46090\n"
     ]
    }
   ],
   "source": [
    "from sklearn.feature_extraction.text import CountVectorizer\n",
    "vectorizer = CountVectorizer(min_df=0, lowercase=False, stop_words='english')\n",
    "vectorizer.fit(trainx)\n",
    "print(len(vectorizer.vocabulary_))\n",
    "print(len(vectorizer.get_feature_names_out()))"
   ]
  },
  {
   "cell_type": "code",
   "execution_count": 56,
   "metadata": {},
   "outputs": [],
   "source": [
    "train_x_vectors = vectorizer.transform(trainx)"
   ]
  },
  {
   "attachments": {},
   "cell_type": "markdown",
   "metadata": {},
   "source": [
    "## Model building"
   ]
  },
  {
   "cell_type": "code",
   "execution_count": 57,
   "metadata": {},
   "outputs": [
    {
     "name": "stderr",
     "output_type": "stream",
     "text": [
      "/Users/luho/opt/anaconda3/lib/python3.9/site-packages/sklearn/linear_model/_logistic.py:458: ConvergenceWarning: lbfgs failed to converge (status=1):\n",
      "STOP: TOTAL NO. of ITERATIONS REACHED LIMIT.\n",
      "\n",
      "Increase the number of iterations (max_iter) or scale the data as shown in:\n",
      "    https://scikit-learn.org/stable/modules/preprocessing.html\n",
      "Please also refer to the documentation for alternative solver options:\n",
      "    https://scikit-learn.org/stable/modules/linear_model.html#logistic-regression\n",
      "  n_iter_i = _check_optimize_result(\n"
     ]
    }
   ],
   "source": [
    "from sklearn.linear_model import LogisticRegression\n",
    "model = LogisticRegression().fit(train_x_vectors, trainy)"
   ]
  },
  {
   "cell_type": "code",
   "execution_count": 58,
   "metadata": {},
   "outputs": [
    {
     "data": {
      "text/plain": [
       "array([100], dtype=int32)"
      ]
     },
     "execution_count": 58,
     "metadata": {},
     "output_type": "execute_result"
    }
   ],
   "source": [
    "#i want to see how many iterations my model did\n",
    "model.n_iter_"
   ]
  },
  {
   "cell_type": "code",
   "execution_count": 59,
   "metadata": {},
   "outputs": [
    {
     "name": "stdout",
     "output_type": "stream",
     "text": [
      "['human' 'generated' 'generated' 'human']\n"
     ]
    }
   ],
   "source": [
    "my = 'today I had a beautiful day with my mother in Milan, she arrived and we had fun visitng the city, eating ice cream and taking a drink right before she took the train back to florence'\n",
    "gpt = 'When my mother visited me in Milan, we spent the day exploring the historic city center, indulging in delicious Italian cuisine, and admiring the stunning architecture and art'\n",
    "myn = 'what about flowers and bees?'\n",
    "gptin = 'If I were a flower running wild and free, all I would want is for you to be my honeybee'\n",
    "\n",
    "\n",
    "transformed_text = vectorizer.transform([my,gpt,myn,gptin])\n",
    "\n",
    "predictions = model.predict(transformed_text)\n",
    "print(predictions)"
   ]
  },
  {
   "cell_type": "code",
   "execution_count": 60,
   "metadata": {},
   "outputs": [
    {
     "name": "stdout",
     "output_type": "stream",
     "text": [
      "[[0.3903512  0.6096488 ]\n",
      " [0.7318283  0.2681717 ]\n",
      " [0.69487136 0.30512864]\n",
      " [0.46461029 0.53538971]]\n"
     ]
    }
   ],
   "source": [
    "predicted_probabilities = model.predict_proba(transformed_text)\n",
    "print(predicted_probabilities)"
   ]
  },
  {
   "cell_type": "code",
   "execution_count": 61,
   "metadata": {},
   "outputs": [],
   "source": [
    "test_x_vectors = vectorizer.transform(testx)\n",
    "predy = model.predict(test_x_vectors)"
   ]
  },
  {
   "cell_type": "code",
   "execution_count": 62,
   "metadata": {},
   "outputs": [
    {
     "name": "stdout",
     "output_type": "stream",
     "text": [
      "accuracy: 0.7594918008568474\n"
     ]
    }
   ],
   "source": [
    "from sklearn.metrics import accuracy_score\n",
    "print(f'accuracy: {accuracy_score(predy, testy)}')"
   ]
  },
  {
   "cell_type": "code",
   "execution_count": 63,
   "metadata": {},
   "outputs": [
    {
     "data": {
      "image/png": "[encoded data removed]",
      "text/plain": [
       "<Figure size 640x480 with 2 Axes>"
      ]
     },
     "metadata": {},
     "output_type": "display_data"
    }
   ],
   "source": [
    "from sklearn.metrics import confusion_matrix,ConfusionMatrixDisplay\n",
    "cm = confusion_matrix(testy, predy, labels=model.classes_)\n",
    "disp = ConfusionMatrixDisplay(confusion_matrix=cm, display_labels=model.classes_)\n",
    "disp.plot()\n",
    "plt.show()"
   ]
  },
  {
   "cell_type": "code",
   "execution_count": 64,
   "metadata": {},
   "outputs": [
    {
     "data": {
      "text/plain": [
       "array(['generated', 'human'], dtype='<U9')"
      ]
     },
     "execution_count": 64,
     "metadata": {},
     "output_type": "execute_result"
    }
   ],
   "source": [
    "model.classes_"
   ]
  }
 ],
 "metadata": {
  "kernelspec": {
   "display_name": "base",
   "language": "python",
   "name": "python3"
  },
  "language_info": {
   "codemirror_mode": {
    "name": "ipython",
    "version": 3
   },
   "file_extension": ".py",
   "mimetype": "text/x-python",
   "name": "python",
   "nbconvert_exporter": "python",
   "pygments_lexer": "ipython3",
   "version": "3.9.16"
  },
  "orig_nbformat": 4
 },
 "nbformat": 4,
 "nbformat_minor": 2
}
